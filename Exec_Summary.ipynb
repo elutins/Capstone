{
 "cells": [
  {
   "cell_type": "markdown",
   "metadata": {},
   "source": [
    "### The goal of this project was to investigate which baseball statistics are most influential when determining various gambling scenarios. The two gambling scenarios that were investigated include; the Over/Under outcome and which team will win the game. Data was collected on games from 2009 - 2016. The data included; the total runs scored in the game, if the over hit, which team won the game, and each team's batting and pitching statistics leading up to the game. As April is the first month of the season, and to avoid including statistical outliers in the model, the entire month of April was removed from the dataset. The final table include upwards of 12,000 total games. All gambling data was taken from Covers.com, who streams their data from a Las Vegas based sporting company.\n",
    "\n",
    "### The baseline score each scenario, if the over would hit and if the home team would win the game, was 52%. After several classification models were built to predict each scenario, a Logistic Regression model was found to be the strongest predictor. That being said, the logistic regression models were only able to increase the accuracy of the predictions by 1%. This is a testiment to the credibility and strength of Las Vegas Odds.  \n",
    "\n",
    "### Gambling in baseball is an extremely subject-knowledge based art. Future studies will focus on gather more data, including weather, stadium, and managerial data for each perspective team.  Once more data is collected, feature engineering will prove to be a vital next step. "
   ]
  },
  {
   "cell_type": "code",
   "execution_count": null,
   "metadata": {
    "collapsed": true
   },
   "outputs": [],
   "source": []
  }
 ],
 "metadata": {
  "kernelspec": {
   "display_name": "Python 2",
   "language": "python",
   "name": "python2"
  },
  "language_info": {
   "codemirror_mode": {
    "name": "ipython",
    "version": 2
   },
   "file_extension": ".py",
   "mimetype": "text/x-python",
   "name": "python",
   "nbconvert_exporter": "python",
   "pygments_lexer": "ipython2",
   "version": "2.7.13"
  }
 },
 "nbformat": 4,
 "nbformat_minor": 2
}
